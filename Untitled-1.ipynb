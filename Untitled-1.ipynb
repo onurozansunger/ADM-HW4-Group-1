{
 "cells": [
  {
   "cell_type": "code",
   "execution_count": null,
   "metadata": {},
   "outputs": [],
   "source": []
  },
  {
   "cell_type": "markdown",
   "metadata": {},
   "source": [
    "`1. Recommendation system`\n",
    "`Implementing a recommendation system is critical for businesses and digital platforms that want to thrive in today's competitive environment. These systems use data-driven personalization to tailor content, products, and services to individual user preferences. The latter improves user engagement, satisfaction, retention, and revenue through increased sales and cross-selling opportunities. In this section, you will attempt to implement a recommendation system by identifying similar users' preferences and recommending movies they watch to the study user.`\n",
    "\n",
    "`To be more specific, you will implement your version of the LSH algorithm, which will take as input the user's preferred genre of movies, find the most similar users to this user, and recommend the most watched movies by those who are more similar to the user.`\n",
    "\n",
    "`Data: The data you will be working with can be found here.`\n",
    "\n",
    "`Looking at the data, you can see that there is data available for each user for the movies the user clicked on. Gather the title and genre of the maximum top 10 movies that each user clicked on regarding the number of clicks.`\n",
    "\n",
    "`1.2 Minhash Signatures`\n",
    "`Using the movie genre and user_ids, try to implement your min-hash signatures so that users with similar interests in a genre appear in the same bucket.`\n",
    "\n",
    "`Important note: You must write your minhash function from scratch. You are not permitted to use any already implemented hash functions. Read the class materials and, if necessary, conduct an internet search. The description of hash functions in the book may be helpful as a reference.`\n",
    "\n",
    "`1.3 Locality-Sensitive Hashing (LSH)`\n",
    "`Now that your buckets are ready, it's time to ask a few queries. We will provide you with some user_ids and ask you to recommend at most five movies to the user to watch based on the movies clicked by similar users.`\n",
    "\n",
    "`To recommend at most five movies given a user_id, use the following procedure:`\n",
    "\n",
    "`Identify the two most similar users to this user.`\n",
    "`If these two users have any movies in common, recommend those movies based on the total number of clicks by these users.`\n",
    "`If there are no more common movies, try to propose the most clicked movies by the most similar user first, followed by the other user.`\n",
    "`Note: At the end of the process, we expect to see at most five movies recommended to the user.`\n",
    "\n",
    "`Example: assume you've identified user A and B as the most similar users to a single user, and we have the following records on these users:`\n",
    "\n",
    "`User A with 80% similarity`\n",
    "\n",
    "`User B with 50% similarity`\n",
    "\n",
    "`user\tmovie title\t#clicks`\n",
    "\n",
    "`A\tWild Child\t20`\n",
    "\n",
    "`A\tInnocence\t10`\n",
    "\n",
    "`A\tCoin Heist\t2`\n",
    "\n",
    "`B\tInnocence\t30`\n",
    "\n",
    "`B\tCoin Heist\t15`\n",
    "\n",
    "`B\tBefore I Fall\t30`\n",
    "\n",
    "`B\tBeyond Skyline\t8`\n",
    "\n",
    "`B\tThe Amazing Spider-Man\t5`\n",
    "\n",
    "`Recommended movies in order:`\n",
    "\n",
    "`Innocence`\n",
    "\n",
    "`Coin Heist`\n",
    "\n",
    "`Wild Child`\n",
    "\n",
    "`Before I Fall`\n",
    "\n",
    "`Beyond Skyline`\n"
   ]
  },
  {
   "cell_type": "markdown",
   "metadata": {},
   "source": [
    "Gather the title and genre of the maximum top 10 movies that each user clicked on regarding the number of clicks:"
   ]
  },
  {
   "cell_type": "code",
   "execution_count": 1,
   "metadata": {},
   "outputs": [],
   "source": [
    "import pandas as pd\n",
    "\n",
    "df = pd.read_csv('netflix.csv')\n",
    "\n",
    "def bestmovies(user):\n",
    "    #The dictionary for all users\n",
    "    users_dict = df.groupby('user_id').apply(lambda x: dict(x['movie_id'].value_counts())).to_dict()\n",
    "    #The dictionary for the specified user\n",
    "    topmovies = users_dict.get(user, {})\n",
    "    # Sorting the dictionary by the value in descending order\n",
    "    sorted_topmovies = dict(sorted(topmovies.items(), key=lambda item: item[1], reverse=True))\n",
    "    # Return only the first 10 key-value pairs\n",
    "    return dict(list(sorted_topmovies.items())[:10])\n",
    "\n",
    "def moviegenres(user):\n",
    "    # Creating a dictionary with movie_id as key and genre as value\n",
    "    movie_genre_dict = pd.Series(df.genres.values,index=df.movie_id).to_dict()\n",
    "\n",
    "    top_10_movies = bestmovies(user)\n",
    "\n",
    "    # Create a dictionary with the top 10 movies as keys and their genres as values\n",
    "    moviegenre = {movie: movie_genre_dict[movie] for movie in top_10_movies.keys()}\n",
    "    return moviegenre"
   ]
  },
  {
   "cell_type": "markdown",
   "metadata": {},
   "source": [
    "`1.2 Minhash Signatures`\n",
    "`Using the movie genre and user_ids, try to implement your min-hash signatures so that users with similar interests in a genre appear in the same bucket.`"
   ]
  },
  {
   "cell_type": "markdown",
   "metadata": {},
   "source": [
    "Making list of genres:"
   ]
  },
  {
   "cell_type": "code",
   "execution_count": 2,
   "metadata": {},
   "outputs": [
    {
     "name": "stdout",
     "output_type": "stream",
     "text": [
      "['Action', 'Adventure', 'Animation', 'Biography', 'Comedy', 'Crime', 'Documentary', 'Drama', 'Family', 'Fantasy', 'Film-Noir', 'History', 'Horror', 'Music', 'Musical', 'Mystery', 'NOT AVAILABLE', 'News', 'Reality-TV', 'Romance', 'Sci-Fi', 'Short', 'Sport', 'Talk-Show', 'Thriller', 'War', 'Western']\n"
     ]
    }
   ],
   "source": [
    "df_copy = df.copy()\n",
    "\n",
    "# Splitting the genres and expanding them into separate rows\n",
    "s = df_copy['genres'].str.split(',').apply(pd.Series, 1).stack()\n",
    "\n",
    "# Removing whitespaces, dropping duplicates and sorting\n",
    "s.index = s.index.droplevel(-1)\n",
    "s.name = 'genres'\n",
    "del df_copy['genres']\n",
    "df_copy = df_copy.join(s)\n",
    "genres_list = df_copy['genres'].str.strip().drop_duplicates().sort_values().tolist()\n",
    "\n",
    "print(genres_list)\n"
   ]
  },
  {
   "cell_type": "markdown",
   "metadata": {},
   "source": [
    "Making whichgenres column:"
   ]
  },
  {
   "cell_type": "code",
   "execution_count": 3,
   "metadata": {},
   "outputs": [],
   "source": [
    "# Creating a new column with a list of 27 zeros\n",
    "df['whichgenres'] = [[0]*27 for _ in range(len(df))]\n",
    "\n",
    "# Updating the new column based on the presence of genres\n",
    "for i, genre in enumerate(genres_list):\n",
    "    df.loc[df['genres'].str.contains(genre), 'whichgenres'] = df.loc[df['genres'].str.contains(genre), 'whichgenres'].apply(lambda x: x[:i] + [1] + x[i+1:])\n",
    "\n",
    "# Saving the updated dataframe to a new csv file\n",
    "df.to_csv('Netflix_updated.csv', index=False)"
   ]
  },
  {
   "cell_type": "markdown",
   "metadata": {},
   "source": [
    "Hash functions:"
   ]
  },
  {
   "cell_type": "code",
   "execution_count": 4,
   "metadata": {},
   "outputs": [],
   "source": [
    "def h1(k):\n",
    "    return (5*k + 3)%97\n",
    "def h2(k):\n",
    "    return(10*k + 3)%97\n",
    "def h3(k):\n",
    "    return(15*k + 3)%97\n",
    "def h4(k):\n",
    "    return(20*k + 3)%97\n",
    "def h5(k):\n",
    "    return(25*k + 3)%97\n",
    "def h6(k):\n",
    "    return(30*k + 3)%97\n",
    "def h7(k):\n",
    "    return(35*k + 3)%97\n",
    "def h8(k):\n",
    "    return(40*k + 3)%97\n",
    "def h9(k):\n",
    "    return(45*k + 3)%97\n",
    "def h10(k):\n",
    "    return(50*k + 3)%97\n",
    "def h11(k):\n",
    "    return(55*k + 3)%97\n",
    "def h12(k):\n",
    "    return(60*k + 3)%97"
   ]
  },
  {
   "cell_type": "markdown",
   "metadata": {},
   "source": [
    "Making additional column with results of hash functions:"
   ]
  },
  {
   "cell_type": "code",
   "execution_count": 5,
   "metadata": {},
   "outputs": [],
   "source": [
    "df = pd.read_csv('Netflix_updated.csv')\n",
    "# Apply the hash functions to each row number\n",
    "df['hash_results'] = df.index.to_series().apply(lambda x: [h1(x), h2(x), h3(x), h4(x), h5(x), h6(x), h7(x), h8(x), h9(x), h10(x), h11(x), h12(x)])\n",
    "\n",
    "# Overwrite the original CSV file with the updated DataFrame\n",
    "df.to_csv('Netflix_updated.csv', index=False)"
   ]
  },
  {
   "cell_type": "code",
   "execution_count": 6,
   "metadata": {},
   "outputs": [
    {
     "name": "stdout",
     "output_type": "stream",
     "text": [
      "   Unnamed: 0             datetime  duration  \\\n",
      "0       58773  2017-01-01 01:15:09       0.0   \n",
      "1       58774  2017-01-01 13:56:02       0.0   \n",
      "2       58775  2017-01-01 15:17:47   10530.0   \n",
      "3       58776  2017-01-01 16:04:13      49.0   \n",
      "4       58777  2017-01-01 19:16:37       0.0   \n",
      "\n",
      "                                title  \\\n",
      "0  Angus, Thongs and Perfect Snogging   \n",
      "1        The Curse of Sleeping Beauty   \n",
      "2                   London Has Fallen   \n",
      "3                            Vendetta   \n",
      "4     The SpongeBob SquarePants Movie   \n",
      "\n",
      "                                              genres release_date    movie_id  \\\n",
      "0                             Comedy, Drama, Romance   2008-07-25  26bd5987e8   \n",
      "1                 Fantasy, Horror, Mystery, Thriller   2016-06-02  f26ed2675e   \n",
      "2                                   Action, Thriller   2016-03-04  f77e500e7a   \n",
      "3                                      Action, Drama   2015-06-12  c74aec7673   \n",
      "4  Animation, Action, Adventure, Comedy, Family, ...   2004-11-19  a80d6fc2aa   \n",
      "\n",
      "      user_id                                        whichgenres  \\\n",
      "0  1dea19f6fe  [0, 0, 0, 0, 1, 0, 0, 1, 0, 0, 0, 0, 0, 0, 0, ...   \n",
      "1  544dcbc510  [0, 0, 0, 0, 0, 0, 0, 0, 0, 1, 0, 0, 1, 0, 0, ...   \n",
      "2  7cbcc791bf  [1, 0, 0, 0, 0, 0, 0, 0, 0, 0, 0, 0, 0, 0, 0, ...   \n",
      "3  ebf43c36b6  [1, 0, 0, 0, 0, 0, 0, 1, 0, 0, 0, 0, 0, 0, 0, ...   \n",
      "4  a57c992287  [1, 1, 1, 0, 1, 0, 0, 0, 1, 1, 0, 0, 0, 0, 0, ...   \n",
      "\n",
      "                                       hash_results  minh_results  \n",
      "0              [3, 3, 3, 3, 3, 3, 3, 3, 3, 3, 3, 3]  [93, 93, 93]  \n",
      "1   [8, 13, 18, 23, 28, 33, 38, 43, 48, 53, 58, 63]   [5, 23, 41]  \n",
      "2   [13, 23, 33, 43, 53, 63, 73, 83, 93, 6, 16, 26]    [5, 41, 7]  \n",
      "3  [18, 33, 48, 63, 78, 93, 11, 26, 41, 56, 71, 86]   [23, 7, 34]  \n",
      "4    [23, 43, 63, 83, 6, 26, 46, 66, 86, 9, 29, 49]    [14, 7, 0]  \n"
     ]
    }
   ],
   "source": [
    "# Define your minh function\n",
    "def minh(elements):\n",
    "    return min(h6(x) for x in elements)\n",
    "\n",
    "# Apply the minh function to each subset of 4 elements in the hash_results column\n",
    "df['minh_results'] = df['hash_results'].apply(lambda x: [minh(x[i:i+4]) for i in range(0, len(x), 4)])\n",
    "\n",
    "# Overwrite the original CSV file with the updated DataFrame\n",
    "df.to_csv('Netflix_updated.csv', index=False)\n",
    "print(df.head())"
   ]
  },
  {
   "cell_type": "markdown",
   "metadata": {},
   "source": [
    "A function that takes a user_id as input and returns user ids of the 2 users that are most similar to the user from the input:"
   ]
  },
  {
   "cell_type": "code",
   "execution_count": 81,
   "metadata": {},
   "outputs": [],
   "source": [
    "\n",
    "\n",
    "#the function that extracts minh_results of the user\n",
    "def users_minh(user_id):\n",
    "    user_data = df[df['user_id'] == user_id]\n",
    "    get_minh_results = user_data['minh_results'].tolist()\n",
    "    return get_minh_results\n",
    "\n",
    "#a function that represents the similarity between users. it takes the lists with all the minhash scores of the movies they watched and compares them\n",
    "def points(user1, user2):\n",
    "    list1=users_minh(user1)\n",
    "    list2=users_minh(user2)\n",
    "    # Initialize a counter\n",
    "    count = 0\n",
    "    # Iterate over each 'minh' in the first list\n",
    "    for minh1 in list1:\n",
    "        #iterate over each 'minh' in the second list\n",
    "        for minh2 in list2:\n",
    "            #iterate over each element in the list (every element is a list of the size 3)\n",
    "            for i in range(3):\n",
    "                #compare elements on the same position between all lists\n",
    "                if minh1[i] == minh2[i]:\n",
    "                    # If the i-th elements are the same, increment the counter\n",
    "                    count += 1\n",
    "\n",
    "    return count\n",
    "\n",
    "#a function that takes a user_id as input and returns the most similar and second most similar user to the one from the input\n",
    "def similar2(user_id):\n",
    "    # Load the data from the CSV file\n",
    "    df = pd.read_csv('Netflix_updated.csv')\n",
    "    \n",
    "    # Get the 'minh_results' for the given user_id\n",
    "    user_minh_results = users_minh(user_id)\n",
    "    \n",
    "    score=dict()\n",
    "    # Iterate over each row in the DataFrame\n",
    "    for index, row in df.iterrows():\n",
    "        score[row['user_id']]=points(user_id, row['user_id'])\n",
    "    sorted_dict = {k: v for k, v in sorted(score.items(), key=lambda item: item[1], reverse=True)}\n",
    "    \n",
    "    return (sorted_dict.keys[0], sorted_dict.keys[1])\n"
   ]
  },
  {
   "cell_type": "markdown",
   "metadata": {},
   "source": [
    "By extracting movies from the two most similar users, the code recommends 5 movies that will user most likely find interesting. After finding two most similar users, the code extracts all the movies both of them watched. If there are 5 movies like that, these 5 movies will be recommended. If there are less then 5, other movies recommended will be taken on account of the number of clicks the most similar user made. If there are more then 5 movies two most similar users have in common, the 5 out of them will be chosen on account of the number of clicks of the most similar user. "
   ]
  },
  {
   "cell_type": "code",
   "execution_count": 85,
   "metadata": {},
   "outputs": [],
   "source": [
    "from collections import Counter\n",
    "def get_movies(user_id):\n",
    "    # Filter the DataFrame to include only rows where 'user_id' is the input user_id\n",
    "    user_movies = df[df['user_id'] == user_id]\n",
    "\n",
    "    # Get the 'movie_id' column from the filtered DataFrame\n",
    "    movie_ids = user_movies['movie_id']\n",
    "\n",
    "    return movie_ids.tolist()\n",
    "#function that takes a user and returns five movies recommended \n",
    "def rec_movies(user_id):\n",
    "    similarusers=similar2(user_id)\n",
    "    m1=get_movies(similarusers[0])\n",
    "    m2=get_movies(similarusers[1])\n",
    "    movies=list(set(m1).intersection(set(m2)))\n",
    "    if(len(movies==5)):\n",
    "        return movies\n",
    "    if(len(movies<5)):\n",
    "        for i in movies:\n",
    "            m1=[x for x in m1 if x != i]\n",
    "        c=Counter(m1)\n",
    "        movies.append(c.most_common(5-len(movies)))\n",
    "        return movies\n",
    "    if(len(movies>5)):\n",
    "        for i in movies:\n",
    "            m1=[x for x in m1 if x == i]\n",
    "        c=Counter(m1)\n",
    "        if(len(m1>5)):\n",
    "           movies.append(c.most_common(5))\n",
    "        else:\n",
    "            movies.append(m1)\n",
    "        return movies\n"
   ]
  }
 ],
 "metadata": {
  "kernelspec": {
   "display_name": "Python 3",
   "language": "python",
   "name": "python3"
  },
  "language_info": {
   "codemirror_mode": {
    "name": "ipython",
    "version": 3
   },
   "file_extension": ".py",
   "mimetype": "text/x-python",
   "name": "python",
   "nbconvert_exporter": "python",
   "pygments_lexer": "ipython3",
   "version": "3.11.0"
  }
 },
 "nbformat": 4,
 "nbformat_minor": 2
}
